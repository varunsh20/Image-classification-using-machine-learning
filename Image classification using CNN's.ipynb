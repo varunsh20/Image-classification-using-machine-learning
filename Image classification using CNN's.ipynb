{
 "cells": [
  {
   "cell_type": "code",
   "execution_count": 94,
   "metadata": {},
   "outputs": [],
   "source": [
    "import os,shutil\n",
    "import numpy as np\n",
    "import pandas as pd\n",
    "import keras\n",
    "from keras import models\n",
    "from keras.preprocessing import image\n",
    "from keras.preprocessing.image import ImageDataGenerator\n",
    "from keras.layers import Dense,Input,Convolution2D,MaxPooling2D,Flatten,Dropout\n",
    "from matplotlib import pyplot as plt\n"
   ]
  },
  {
   "cell_type": "code",
   "execution_count": 148,
   "metadata": {},
   "outputs": [
    {
     "data": {
      "text/plain": [
       "['cats', 'dogs', 'horses', 'humans']"
      ]
     },
     "execution_count": 148,
     "metadata": {},
     "output_type": "execute_result"
    }
   ],
   "source": [
    "folder = os.listdir('Images1')\n",
    "\n",
    "classes = [\"cats\",\"dogs\",\"horses\",\"humans\"]\n",
    "folder"
   ]
  },
  {
   "cell_type": "code",
   "execution_count": 111,
   "metadata": {},
   "outputs": [
    {
     "name": "stdout",
     "output_type": "stream",
     "text": [
      "Model: \"sequential_7\"\n",
      "_________________________________________________________________\n",
      "Layer (type)                 Output Shape              Param #   \n",
      "=================================================================\n",
      "conv2d_17 (Conv2D)           (None, 148, 148, 64)      1792      \n",
      "_________________________________________________________________\n",
      "dropout_9 (Dropout)          (None, 148, 148, 64)      0         \n",
      "_________________________________________________________________\n",
      "max_pooling2d_17 (MaxPooling (None, 74, 74, 64)        0         \n",
      "_________________________________________________________________\n",
      "conv2d_18 (Conv2D)           (None, 72, 72, 32)        18464     \n",
      "_________________________________________________________________\n",
      "max_pooling2d_18 (MaxPooling (None, 36, 36, 32)        0         \n",
      "_________________________________________________________________\n",
      "flatten_6 (Flatten)          (None, 41472)             0         \n",
      "_________________________________________________________________\n",
      "dense_12 (Dense)             (None, 10)                414730    \n",
      "_________________________________________________________________\n",
      "dense_13 (Dense)             (None, 4)                 44        \n",
      "=================================================================\n",
      "Total params: 435,030\n",
      "Trainable params: 435,030\n",
      "Non-trainable params: 0\n",
      "_________________________________________________________________\n"
     ]
    }
   ],
   "source": [
    "model = models.Sequential()\n",
    "\n",
    "model.add(Convolution2D(64,(3,3),activation = 'relu',input_shape = (150,150,3)))\n",
    "model.add(Dropout(0.30))\n",
    "model.add(MaxPooling2D((2,2)))\n",
    "model.add(Convolution2D(32,(3,3),activation = 'relu'))\n",
    "model.add(MaxPooling2D((2,2)))\n",
    "model.add(Flatten())\n",
    "model.add(Dense(10,activation = 'relu'))\n",
    "model.add(Dense(4,activation = 'softmax'))\n",
    "model.summary()\n",
    "          \n",
    "                \n"
   ]
  },
  {
   "cell_type": "code",
   "execution_count": 117,
   "metadata": {},
   "outputs": [],
   "source": [
    "model.compile(loss = 'categorical_crossentropy',optimizer = 'adam',metrics = ['accuracy'])"
   ]
  },
  {
   "cell_type": "code",
   "execution_count": 134,
   "metadata": {},
   "outputs": [
    {
     "name": "stdout",
     "output_type": "stream",
     "text": [
      "Found 648 images belonging to 4 classes.\n",
      "Found 160 images belonging to 4 classes.\n"
     ]
    }
   ],
   "source": [
    "train_gen = ImageDataGenerator(rescale = 1.0/255,horizontal_flip=True,vertical_flip=True,validation_split=0.2)\n",
    "val_gen = ImageDataGenerator(rescale = 1.0/255)\n",
    "\n",
    "train_generator = train_gen.flow_from_directory(\"Images1\",\n",
    "                                                batch_size = 32,\n",
    "                                                target_size = (150,150),\n",
    "                                                subset = 'training',\n",
    "                                                class_mode = 'categorical')\n",
    "\n",
    "val_generator = train_gen.flow_from_directory(\"Images1\",\n",
    "                                            batch_size = 32,\n",
    "                                            target_size = (150,150),\n",
    "                                            subset = 'validation',\n",
    "                                            class_mode = 'categorical')"
   ]
  },
  {
   "cell_type": "code",
   "execution_count": 135,
   "metadata": {},
   "outputs": [
    {
     "data": {
      "text/plain": [
       "{'cats': 0, 'dogs': 1, 'horses': 2, 'humans': 3}"
      ]
     },
     "execution_count": 135,
     "metadata": {},
     "output_type": "execute_result"
    }
   ],
   "source": [
    "train_generator.class_indices"
   ]
  },
  {
   "cell_type": "code",
   "execution_count": 136,
   "metadata": {},
   "outputs": [
    {
     "name": "stdout",
     "output_type": "stream",
     "text": [
      "(32, 150, 150, 3)\n",
      "(32, 4)\n"
     ]
    }
   ],
   "source": [
    "x,y = train_generator.next()\n",
    "print(x.shape)\n",
    "print(y.shape)"
   ]
  },
  {
   "cell_type": "code",
   "execution_count": 138,
   "metadata": {},
   "outputs": [
    {
     "name": "stdout",
     "output_type": "stream",
     "text": [
      "648\n",
      "160\n"
     ]
    }
   ],
   "source": [
    "print(train_generator.samples)\n",
    "print(val_generator.samples)"
   ]
  },
  {
   "cell_type": "code",
   "execution_count": 139,
   "metadata": {},
   "outputs": [
    {
     "name": "stdout",
     "output_type": "stream",
     "text": [
      "Epoch 1/30\n",
      "15/15 [==============================] - 48s 3s/step - loss: 1.1123 - accuracy: 0.6579 - val_loss: 0.7030 - val_accuracy: 0.7937\n",
      "Epoch 2/30\n",
      "15/15 [==============================] - 42s 3s/step - loss: 0.8769 - accuracy: 0.6750 - val_loss: 0.6051 - val_accuracy: 0.9000\n",
      "Epoch 3/30\n",
      "15/15 [==============================] - 41s 3s/step - loss: 0.7814 - accuracy: 0.7125 - val_loss: 0.5310 - val_accuracy: 0.8438\n",
      "Epoch 4/30\n",
      "15/15 [==============================] - 38s 3s/step - loss: 0.7577 - accuracy: 0.7396 - val_loss: 0.4420 - val_accuracy: 0.9000\n",
      "Epoch 5/30\n",
      "15/15 [==============================] - 38s 3s/step - loss: 0.6639 - accuracy: 0.7763 - val_loss: 0.5348 - val_accuracy: 0.8438\n",
      "Epoch 6/30\n",
      "15/15 [==============================] - 36s 2s/step - loss: 0.6101 - accuracy: 0.7829 - val_loss: 0.4383 - val_accuracy: 0.8625\n",
      "Epoch 7/30\n",
      "15/15 [==============================] - 36s 2s/step - loss: 0.5675 - accuracy: 0.7785 - val_loss: 0.4874 - val_accuracy: 0.8562\n",
      "Epoch 8/30\n",
      "15/15 [==============================] - 36s 2s/step - loss: 0.5154 - accuracy: 0.8114 - val_loss: 0.4027 - val_accuracy: 0.8875\n",
      "Epoch 9/30\n",
      "15/15 [==============================] - 41s 3s/step - loss: 0.5460 - accuracy: 0.8104 - val_loss: 0.5410 - val_accuracy: 0.8562\n",
      "Epoch 10/30\n",
      "15/15 [==============================] - 37s 2s/step - loss: 0.4863 - accuracy: 0.8246 - val_loss: 0.4431 - val_accuracy: 0.8938\n",
      "Epoch 11/30\n",
      "15/15 [==============================] - 36s 2s/step - loss: 0.4524 - accuracy: 0.8443 - val_loss: 0.5188 - val_accuracy: 0.8500\n",
      "Epoch 12/30\n",
      "15/15 [==============================] - 36s 2s/step - loss: 0.4339 - accuracy: 0.8640 - val_loss: 0.5739 - val_accuracy: 0.8313\n",
      "Epoch 13/30\n",
      "15/15 [==============================] - 38s 3s/step - loss: 0.4158 - accuracy: 0.8618 - val_loss: 0.4891 - val_accuracy: 0.8500\n",
      "Epoch 14/30\n",
      "15/15 [==============================] - 44s 3s/step - loss: 0.3580 - accuracy: 0.8794 - val_loss: 0.3910 - val_accuracy: 0.8750\n",
      "Epoch 15/30\n",
      "15/15 [==============================] - 37s 2s/step - loss: 0.3605 - accuracy: 0.8772 - val_loss: 0.4314 - val_accuracy: 0.8750\n",
      "Epoch 16/30\n",
      "15/15 [==============================] - 37s 2s/step - loss: 0.2917 - accuracy: 0.8969 - val_loss: 0.4343 - val_accuracy: 0.8625\n",
      "Epoch 17/30\n",
      "15/15 [==============================] - 44s 3s/step - loss: 0.2963 - accuracy: 0.9101 - val_loss: 0.4140 - val_accuracy: 0.8875\n",
      "Epoch 18/30\n",
      "15/15 [==============================] - 39s 3s/step - loss: 0.2627 - accuracy: 0.9167 - val_loss: 0.3703 - val_accuracy: 0.8938\n",
      "Epoch 19/30\n",
      "15/15 [==============================] - 38s 3s/step - loss: 0.3144 - accuracy: 0.8925 - val_loss: 0.4415 - val_accuracy: 0.8500\n",
      "Epoch 20/30\n",
      "15/15 [==============================] - 40s 3s/step - loss: 0.2224 - accuracy: 0.9229 - val_loss: 0.4640 - val_accuracy: 0.8750\n",
      "Epoch 21/30\n",
      "15/15 [==============================] - 39s 3s/step - loss: 0.2406 - accuracy: 0.9298 - val_loss: 0.4459 - val_accuracy: 0.8875\n",
      "Epoch 22/30\n",
      "15/15 [==============================] - 41s 3s/step - loss: 0.2157 - accuracy: 0.9342 - val_loss: 0.4763 - val_accuracy: 0.8687\n",
      "Epoch 23/30\n",
      "15/15 [==============================] - 37s 2s/step - loss: 0.2064 - accuracy: 0.9342 - val_loss: 0.4417 - val_accuracy: 0.8438\n",
      "Epoch 24/30\n",
      "15/15 [==============================] - 37s 2s/step - loss: 0.2233 - accuracy: 0.9232 - val_loss: 0.4963 - val_accuracy: 0.8500\n",
      "Epoch 25/30\n",
      "15/15 [==============================] - 38s 3s/step - loss: 0.1760 - accuracy: 0.9518 - val_loss: 0.5593 - val_accuracy: 0.8375\n",
      "Epoch 26/30\n",
      "15/15 [==============================] - 44s 3s/step - loss: 0.1555 - accuracy: 0.9605 - val_loss: 0.4836 - val_accuracy: 0.8625\n",
      "Epoch 27/30\n",
      "15/15 [==============================] - 41s 3s/step - loss: 0.1229 - accuracy: 0.9604 - val_loss: 0.5954 - val_accuracy: 0.8500\n",
      "Epoch 28/30\n",
      "15/15 [==============================] - 37s 2s/step - loss: 0.1403 - accuracy: 0.9496 - val_loss: 0.4403 - val_accuracy: 0.8875\n",
      "Epoch 29/30\n",
      "15/15 [==============================] - 38s 3s/step - loss: 0.1023 - accuracy: 0.9693 - val_loss: 0.6224 - val_accuracy: 0.8562\n",
      "Epoch 30/30\n",
      "15/15 [==============================] - 37s 2s/step - loss: 0.1521 - accuracy: 0.9386 - val_loss: 0.5011 - val_accuracy: 0.8500\n"
     ]
    }
   ],
   "source": [
    "hist = model.fit_generator(train_generator,\n",
    "                           epochs = 30,\n",
    "                           steps_per_epoch = 15,\n",
    "                           validation_data = val_generator,\n",
    "                           validation_steps=5)\n"
   ]
  },
  {
   "cell_type": "code",
   "execution_count": 140,
   "metadata": {},
   "outputs": [
    {
     "data": {
      "text/plain": [
       "{'loss': [1.1123141050338745,\n",
       "  0.876852810382843,\n",
       "  0.7813593149185181,\n",
       "  0.7576913833618164,\n",
       "  0.6639289259910583,\n",
       "  0.610072910785675,\n",
       "  0.5675361752510071,\n",
       "  0.5154020190238953,\n",
       "  0.5460081100463867,\n",
       "  0.4862626791000366,\n",
       "  0.4524089992046356,\n",
       "  0.43391153216362,\n",
       "  0.41575396060943604,\n",
       "  0.3579821288585663,\n",
       "  0.36052101850509644,\n",
       "  0.2916997969150543,\n",
       "  0.29626187682151794,\n",
       "  0.26272571086883545,\n",
       "  0.3143564760684967,\n",
       "  0.22236458957195282,\n",
       "  0.24060994386672974,\n",
       "  0.21571436524391174,\n",
       "  0.2064138501882553,\n",
       "  0.22328034043312073,\n",
       "  0.17599491775035858,\n",
       "  0.15553231537342072,\n",
       "  0.12289146333932877,\n",
       "  0.14034810662269592,\n",
       "  0.10234586894512177,\n",
       "  0.15208859741687775],\n",
       " 'accuracy': [0.6578947305679321,\n",
       "  0.675000011920929,\n",
       "  0.7124999761581421,\n",
       "  0.7395833134651184,\n",
       "  0.7763158082962036,\n",
       "  0.7828947305679321,\n",
       "  0.7785087823867798,\n",
       "  0.8114035129547119,\n",
       "  0.8104166388511658,\n",
       "  0.8245614171028137,\n",
       "  0.844298243522644,\n",
       "  0.8640350699424744,\n",
       "  0.8618420958518982,\n",
       "  0.8793859481811523,\n",
       "  0.8771929740905762,\n",
       "  0.8969298005104065,\n",
       "  0.9100877046585083,\n",
       "  0.9166666865348816,\n",
       "  0.8925438523292542,\n",
       "  0.9229166507720947,\n",
       "  0.9298245906829834,\n",
       "  0.9342105388641357,\n",
       "  0.9342105388641357,\n",
       "  0.9232456088066101,\n",
       "  0.9517543911933899,\n",
       "  0.9605262875556946,\n",
       "  0.9604166746139526,\n",
       "  0.9495614171028137,\n",
       "  0.969298243522644,\n",
       "  0.9385964870452881],\n",
       " 'val_loss': [0.703004777431488,\n",
       "  0.6050792932510376,\n",
       "  0.531003475189209,\n",
       "  0.4420265257358551,\n",
       "  0.5347877740859985,\n",
       "  0.43834105134010315,\n",
       "  0.48735618591308594,\n",
       "  0.4027019143104553,\n",
       "  0.5409674644470215,\n",
       "  0.44307488203048706,\n",
       "  0.5187840461730957,\n",
       "  0.5739122629165649,\n",
       "  0.4891125559806824,\n",
       "  0.39102476835250854,\n",
       "  0.4313531816005707,\n",
       "  0.43429771065711975,\n",
       "  0.4139561653137207,\n",
       "  0.3702966272830963,\n",
       "  0.44146251678466797,\n",
       "  0.4639608860015869,\n",
       "  0.4459340572357178,\n",
       "  0.4762659966945648,\n",
       "  0.4417213499546051,\n",
       "  0.49625715613365173,\n",
       "  0.5592554211616516,\n",
       "  0.4835912585258484,\n",
       "  0.5954110622406006,\n",
       "  0.440290629863739,\n",
       "  0.6223888397216797,\n",
       "  0.5010845065116882],\n",
       " 'val_accuracy': [0.793749988079071,\n",
       "  0.8999999761581421,\n",
       "  0.84375,\n",
       "  0.8999999761581421,\n",
       "  0.84375,\n",
       "  0.862500011920929,\n",
       "  0.856249988079071,\n",
       "  0.887499988079071,\n",
       "  0.856249988079071,\n",
       "  0.893750011920929,\n",
       "  0.8500000238418579,\n",
       "  0.831250011920929,\n",
       "  0.8500000238418579,\n",
       "  0.875,\n",
       "  0.875,\n",
       "  0.862500011920929,\n",
       "  0.887499988079071,\n",
       "  0.893750011920929,\n",
       "  0.8500000238418579,\n",
       "  0.875,\n",
       "  0.887499988079071,\n",
       "  0.8687499761581421,\n",
       "  0.84375,\n",
       "  0.8500000238418579,\n",
       "  0.8374999761581421,\n",
       "  0.862500011920929,\n",
       "  0.8500000238418579,\n",
       "  0.887499988079071,\n",
       "  0.856249988079071,\n",
       "  0.8500000238418579]}"
      ]
     },
     "execution_count": 140,
     "metadata": {},
     "output_type": "execute_result"
    }
   ],
   "source": [
    "hist.history"
   ]
  },
  {
   "cell_type": "code",
   "execution_count": 141,
   "metadata": {},
   "outputs": [],
   "source": [
    "loss = hist.history['loss']\n",
    "val_loss = hist.history['val_loss']"
   ]
  },
  {
   "cell_type": "code",
   "execution_count": 142,
   "metadata": {},
   "outputs": [],
   "source": [
    "acc = hist.history['accuracy']\n",
    "val_acc = hist.history['val_accuracy']"
   ]
  },
  {
   "cell_type": "code",
   "execution_count": 143,
   "metadata": {},
   "outputs": [
    {
     "data": {
      "image/png": "[encoded data removed]",
      "text/plain": [
       "<Figure size 432x288 with 1 Axes>"
      ]
     },
     "metadata": {
      "needs_background": "light"
     },
     "output_type": "display_data"
    }
   ],
   "source": [
    "plt.plot(loss,label='loss')\n",
    "plt.plot(val_loss,label='val_loss')\n",
    "plt.show()"
   ]
  },
  {
   "cell_type": "code",
   "execution_count": 144,
   "metadata": {},
   "outputs": [
    {
     "data": {
      "image/png": "[encoded data removed]",
      "text/plain": [
       "<Figure size 432x288 with 1 Axes>"
      ]
     },
     "metadata": {
      "needs_background": "light"
     },
     "output_type": "display_data"
    }
   ],
   "source": [
    "plt.plot(acc,label='acc')\n",
    "plt.plot(val_acc,label='val_acc')\n",
    "plt.show()"
   ]
  },
  {
   "cell_type": "code",
   "execution_count": 145,
   "metadata": {},
   "outputs": [
    {
     "name": "stdout",
     "output_type": "stream",
     "text": [
      "WARNING:tensorflow:From <ipython-input-145-e4ade065aa26>:1: Model.evaluate_generator (from tensorflow.python.keras.engine.training) is deprecated and will be removed in a future version.\n",
      "Instructions for updating:\n",
      "Please use Model.evaluate, which supports generators.\n"
     ]
    },
    {
     "data": {
      "text/plain": [
       "[0.11557155102491379, 0.9737654328346252]"
      ]
     },
     "execution_count": 145,
     "metadata": {},
     "output_type": "execute_result"
    }
   ],
   "source": [
    "model.evaluate_generator(train_generator)"
   ]
  },
  {
   "cell_type": "code",
   "execution_count": null,
   "metadata": {},
   "outputs": [],
   "source": []
  }
 ],
 "metadata": {
  "kernelspec": {
   "display_name": "Python 3",
   "language": "python",
   "name": "python3"
  },
  "language_info": {
   "codemirror_mode": {
    "name": "ipython",
    "version": 3
   },
   "file_extension": ".py",
   "mimetype": "text/x-python",
   "name": "python",
   "nbconvert_exporter": "python",
   "pygments_lexer": "ipython3",
   "version": "3.8.1"
  }
 },
 "nbformat": 4,
 "nbformat_minor": 4
}
